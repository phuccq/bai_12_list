{
 "cells": [
  {
   "cell_type": "code",
   "execution_count": null,
   "id": "d66d106f",
   "metadata": {},
   "outputs": [],
   "source": [
    "import turtle\n",
    "t = turtle.Turtle(visible=False)\n",
    "def pen_up(x,y):\n",
    "    t.penup()\n",
    "    t.goto(x,y)  \n",
    "    t.pendown()\n",
    "    \n",
    "def draw_map():\n",
    "    t.speed(0)\n",
    "    pen_up(-250,100)\n",
    "    t.right(90)\n",
    "    for i in range(21):    \n",
    "        for j in range(13):\n",
    "            if j==0 or j==12:\n",
    "                t.write(i)\n",
    "                t.penup()\n",
    "                t.forward(20)\n",
    "                t.pendown()\n",
    "            else:\n",
    "                t.write(\"|\")\n",
    "                t.penup()\n",
    "                t.forward(20)\n",
    "                t.pendown()\n",
    "        pen_up(-250 + (i+1)*20,100)\n",
    "\n",
    "draw_map()\n",
    "turtle.done()"
   ]
  },
  {
   "cell_type": "code",
   "execution_count": null,
   "id": "f0bfcafb",
   "metadata": {},
   "outputs": [],
   "source": []
  }
 ],
 "metadata": {
  "kernelspec": {
   "display_name": "Python 3",
   "language": "python",
   "name": "python3"
  },
  "language_info": {
   "codemirror_mode": {
    "name": "ipython",
    "version": 3
   },
   "file_extension": ".py",
   "mimetype": "text/x-python",
   "name": "python",
   "nbconvert_exporter": "python",
   "pygments_lexer": "ipython3",
   "version": "3.8.8"
  }
 },
 "nbformat": 4,
 "nbformat_minor": 5
}
