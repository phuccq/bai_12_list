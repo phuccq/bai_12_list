{
 "cells": [
  {
   "cell_type": "code",
   "execution_count": 1,
   "id": "19007284",
   "metadata": {
    "scrolled": true
   },
   "outputs": [
    {
     "name": "stdout",
     "output_type": "stream",
     "text": [
      "input your color of the turtle you think that is the winner (red, green, blue, black): red\n",
      "blue\n",
      "2022-08-17 22:05:47.723944\n"
     ]
    },
    {
     "ename": "TypeError",
     "evalue": "unsupported format string passed to datetime.timedelta.__format__",
     "output_type": "error",
     "traceback": [
      "\u001b[1;31m---------------------------------------------------------------------------\u001b[0m",
      "\u001b[1;31mTypeError\u001b[0m                                 Traceback (most recent call last)",
      "\u001b[1;32m<ipython-input-1-41d5c41e0d5e>\u001b[0m in \u001b[0;36m<module>\u001b[1;34m\u001b[0m\n\u001b[0;32m     64\u001b[0m \u001b[0mstarted_time\u001b[0m \u001b[1;33m=\u001b[0m \u001b[0mdatetime\u001b[0m\u001b[1;33m.\u001b[0m\u001b[0mdatetime\u001b[0m\u001b[1;33m.\u001b[0m\u001b[0mnow\u001b[0m\u001b[1;33m(\u001b[0m\u001b[1;33m)\u001b[0m\u001b[1;33m\u001b[0m\u001b[1;33m\u001b[0m\u001b[0m\n\u001b[0;32m     65\u001b[0m \u001b[1;32mwhile\u001b[0m \u001b[0mrun\u001b[0m\u001b[1;33m:\u001b[0m\u001b[1;33m\u001b[0m\u001b[1;33m\u001b[0m\u001b[0m\n\u001b[1;32m---> 66\u001b[1;33m     \u001b[0mrace\u001b[0m\u001b[1;33m(\u001b[0m\u001b[0mturtles\u001b[0m\u001b[1;33m)\u001b[0m\u001b[1;33m\u001b[0m\u001b[1;33m\u001b[0m\u001b[0m\n\u001b[0m\u001b[0;32m     67\u001b[0m \u001b[1;33m\u001b[0m\u001b[0m\n\u001b[0;32m     68\u001b[0m \u001b[0mturtle\u001b[0m\u001b[1;33m.\u001b[0m\u001b[0mdone\u001b[0m\u001b[1;33m(\u001b[0m\u001b[1;33m)\u001b[0m\u001b[1;33m\u001b[0m\u001b[1;33m\u001b[0m\u001b[0m\n",
      "\u001b[1;32m<ipython-input-1-41d5c41e0d5e>\u001b[0m in \u001b[0;36mrace\u001b[1;34m(turtles)\u001b[0m\n\u001b[0;32m     37\u001b[0m             \u001b[0mtur\u001b[0m\u001b[1;33m.\u001b[0m\u001b[0mpenup\u001b[0m\u001b[1;33m(\u001b[0m\u001b[1;33m)\u001b[0m\u001b[1;33m\u001b[0m\u001b[1;33m\u001b[0m\u001b[0m\n\u001b[0;32m     38\u001b[0m             \u001b[0mtur\u001b[0m\u001b[1;33m.\u001b[0m\u001b[0mgoto\u001b[0m\u001b[1;33m(\u001b[0m\u001b[1;36m0\u001b[0m\u001b[1;33m,\u001b[0m\u001b[1;36m200\u001b[0m\u001b[1;33m)\u001b[0m\u001b[1;33m\u001b[0m\u001b[1;33m\u001b[0m\u001b[0m\n\u001b[1;32m---> 39\u001b[1;33m             \u001b[0mtur\u001b[0m\u001b[1;33m.\u001b[0m\u001b[0mwrite\u001b[0m\u001b[1;33m(\u001b[0m\u001b[1;34mf\"The winner is the {tur.pencolor()} turtle with time is {datetime.datetime.now()-started_time:2d}\"\u001b[0m\u001b[1;33m)\u001b[0m\u001b[1;33m\u001b[0m\u001b[1;33m\u001b[0m\u001b[0m\n\u001b[0m\u001b[0;32m     40\u001b[0m             \u001b[1;32mif\u001b[0m \u001b[0mguess\u001b[0m \u001b[1;33m==\u001b[0m \u001b[0mtur\u001b[0m\u001b[1;33m.\u001b[0m\u001b[0mpencolor\u001b[0m\u001b[1;33m(\u001b[0m\u001b[1;33m)\u001b[0m\u001b[1;33m:\u001b[0m\u001b[1;33m\u001b[0m\u001b[1;33m\u001b[0m\u001b[0m\n\u001b[0;32m     41\u001b[0m                 \u001b[0mtur\u001b[0m\u001b[1;33m.\u001b[0m\u001b[0mgoto\u001b[0m\u001b[1;33m(\u001b[0m\u001b[1;36m0\u001b[0m\u001b[1;33m,\u001b[0m\u001b[1;36m190\u001b[0m\u001b[1;33m)\u001b[0m\u001b[1;33m\u001b[0m\u001b[1;33m\u001b[0m\u001b[0m\n",
      "\u001b[1;31mTypeError\u001b[0m: unsupported format string passed to datetime.timedelta.__format__"
     ]
    }
   ],
   "source": [
    "import turtle\n",
    "import random\n",
    "import datetime\n",
    "\n",
    "t = turtle.Turtle(visible = False)\n",
    "    \n",
    "# t.speed(0)\n",
    "# t.penup()\n",
    "# t.goto(-250,100)\n",
    "# t.pendown()\n",
    "# t.right(90)\n",
    "# for i in range(21):    \n",
    "#     for j in range(13):\n",
    "#         if j==0 or j==12:\n",
    "#             t.write(i)\n",
    "#             t.penup()\n",
    "#             t.forward(20)\n",
    "#             t.pendown()\n",
    "#         else:\n",
    "#             t.write(\"|\")\n",
    "#             t.penup()\n",
    "#             t.forward(20)\n",
    "#             t.pendown()\n",
    "#     t.penup()\n",
    "#     t.goto(-250 + (i+1)*20,100)\n",
    "#     t.pendown()\n",
    "        \n",
    "def race(turtles):\n",
    "    global run\n",
    "    for tur in turtles:\n",
    "        tur.penup()\n",
    "        tur.forward(random.choice(tur_speed))\n",
    "        if tur.xcor() > 160:   \n",
    "            print(tur.pencolor())\n",
    "            print(started_time)\n",
    "            tur.hideturtle()\n",
    "            tur.penup()\n",
    "            tur.goto(0,200)\n",
    "            tur.write(f\"The winner is the {tur.pencolor()} turtle with time is {datetime.datetime.now()-started_time}\")\n",
    "            if guess == tur.pencolor():\n",
    "                tur.goto(0,190)\n",
    "                tur.write(\"You win!\")\n",
    "            else:\n",
    "                tur.goto(0,190)\n",
    "                tur.write(\"You lose!\")\n",
    "            \n",
    "            run = False\n",
    "\n",
    "turtles = []\n",
    "tur_color = ['red', 'green', 'blue', 'black']\n",
    "y_pos = [-60, -20, 20, 60]\n",
    "tur_speed = [5,10,15,20,25]\n",
    "run = True\n",
    "\n",
    "for i in range(4):\n",
    "    tur = turtle.Turtle(shape='turtle')\n",
    "    tur.penup()\n",
    "    tur.goto(-250, y_pos[i])\n",
    "    tur.setheading(0)\n",
    "    tur.color(tur_color[i])\n",
    "    turtles.append(tur)\n",
    "\n",
    "guess = input(\"input your color of the turtle you think that is the winner (red, green, blue, black): \")\n",
    "started_time = datetime.datetime.now()\n",
    "while run:\n",
    "    race(turtles)\n",
    "\n",
    "turtle.done()"
   ]
  },
  {
   "cell_type": "raw",
   "id": "1b990369",
   "metadata": {},
   "source": []
  }
 ],
 "metadata": {
  "kernelspec": {
   "display_name": "Python 3",
   "language": "python",
   "name": "python3"
  },
  "language_info": {
   "codemirror_mode": {
    "name": "ipython",
    "version": 3
   },
   "file_extension": ".py",
   "mimetype": "text/x-python",
   "name": "python",
   "nbconvert_exporter": "python",
   "pygments_lexer": "ipython3",
   "version": "3.8.8"
  }
 },
 "nbformat": 4,
 "nbformat_minor": 5
}
