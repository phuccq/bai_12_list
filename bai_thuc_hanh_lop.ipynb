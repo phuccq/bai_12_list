{
 "cells": [
  {
   "cell_type": "code",
   "execution_count": null,
   "id": "101416f9",
   "metadata": {},
   "outputs": [],
   "source": [
    "myList = [\"iphone\", \"samsung\"]\n",
    "print(myList)\n",
    "myList.append(\"Nokia\")\n",
    "print(myList)\n"
   ]
  },
  {
   "cell_type": "code",
   "execution_count": null,
   "id": "cbe3f5bb",
   "metadata": {},
   "outputs": [],
   "source": [
    "myList = []\n",
    "sum = 0\n",
    "while True:\n",
    "    n = input(\"Input number to your list: \")\n",
    "    if n == \"\":\n",
    "        break\n",
    "    else:\n",
    "        myList.append(int(n))    \n",
    "for i in range(0,len(myList)):\n",
    "    sum += myList[i]\n",
    "print(sum)"
   ]
  },
  {
   "cell_type": "code",
   "execution_count": 9,
   "id": "94ba2bfe",
   "metadata": {},
   "outputs": [
    {
     "name": "stdout",
     "output_type": "stream",
     "text": [
      "Nhập số vào dãy số/Thoát chương trình ấn q: -1\n",
      "Nhập số vào dãy số/Thoát chương trình ấn q: 5\n",
      "Nhập số vào dãy số/Thoát chương trình ấn q: 6\n",
      "Nhập số vào dãy số/Thoát chương trình ấn q: -8\n",
      "Nhập số vào dãy số/Thoát chương trình ấn q: 9\n",
      "Nhập số vào dãy số/Thoát chương trình ấn q: q\n",
      "Số bé nhất trong dãy số là:  -8\n",
      "Số lớn nhất trong dãy số là:  9\n"
     ]
    }
   ],
   "source": [
    "# 1. Viết chương trình lấy các số từ người dùng nhập và đưa vào list cho đến khi người dùng thoát.Tìm ra số nhỏ nhất và lớn nhất.\n",
    "def max_min_number(numList):\n",
    "    numList.sort()\n",
    "    numMin = numList[0]\n",
    "    numMax = numList[-1]\n",
    "    print(\"Số bé nhất trong dãy số là: \",numMin)\n",
    "    print(\"Số lớn nhất trong dãy số là: \",numMax)\n",
    "\n",
    "numList = []\n",
    "\n",
    "while True:\n",
    "    try:\n",
    "        num = input(\"Nhập số vào dãy số/Thoát chương trình ấn q: \")    \n",
    "        if num == \"q\": \n",
    "            break\n",
    "        numList.append(int(num))\n",
    "    except:\n",
    "        print(\"Bạn phải nhập số!\")\n",
    "        \n",
    "max_min_number(numList)\n",
    "\n",
    "\n",
    "\n",
    "\n"
   ]
  },
  {
   "cell_type": "code",
   "execution_count": null,
   "id": "a278616e",
   "metadata": {},
   "outputs": [],
   "source": [
    "# 2. Tương tự trên tiếp nhưng tính tổng các số armstrong\n",
    "\n",
    "\n",
    "# 3. Cho 1 list các chuỗi. Tìm ra list các chuỗi có từ 2 ký tự trở lên và có ký tự đầu bằng ký tự cuối.\n",
    "# Ví dụ: ['abc', 'xyz', 'g', 'aba', '1221'] => ['abc', '1221']\n",
    "# 4. Cho 1 list các tuples, mỗi tuple có n số bất kỳ. Sắp xếp tăng giảm các tuple này theo phần tử đầu hoặc cuối theo từng tuple. \n",
    "# Ví dụ: [(2, 5), (1, 2), (4, 4), (2, 3), (2, 1)] \n",
    "# Sau khi sắp xêp giảm theo phần tử đầu của tuple: [(4, 4), (2, 1), (2, 3), (2, 5), (1, 2)]\n",
    "# 5. Viết hàm kiểm tra 2 lists có ít nhất 1 phần tử giống nhau không. Trả về True, False\n",
    "# 6. Viết hàm tìm ra những từ trong 1 câu mà có n ký tự trở lên.\n",
    "# 7. Cho 1 list chứa các lists con. Tìm ra list con có tổng lớn nhất.\n",
    "# Ví dụ: [[1,2,3], [4,5,6], [10,11,12], [7,8,9]] => Kết quả [10,11,12]\n",
    "# 8. Nhập vào 1 list các phần tử tùy ý từ người dùng.\n",
    "# Nhập tiếp 1 list khác. List này chứa danh sách các vị trí cần xóa từ list trên (lưu ý: vị trí bắt đầu từ 1)\n",
    "# In ra list mới sau khi đã xóa bớt 1 số vị trí.\""
   ]
  },
  {
   "cell_type": "code",
   "execution_count": null,
   "id": "d88312fd",
   "metadata": {},
   "outputs": [],
   "source": []
  }
 ],
 "metadata": {
  "kernelspec": {
   "display_name": "Python 3",
   "language": "python",
   "name": "python3"
  },
  "language_info": {
   "codemirror_mode": {
    "name": "ipython",
    "version": 3
   },
   "file_extension": ".py",
   "mimetype": "text/x-python",
   "name": "python",
   "nbconvert_exporter": "python",
   "pygments_lexer": "ipython3",
   "version": "3.8.8"
  }
 },
 "nbformat": 4,
 "nbformat_minor": 5
}
