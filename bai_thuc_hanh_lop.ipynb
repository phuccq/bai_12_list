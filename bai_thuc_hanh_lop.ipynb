{
 "cells": [
  {
   "cell_type": "code",
   "execution_count": 2,
   "id": "101416f9",
   "metadata": {},
   "outputs": [
    {
     "name": "stdout",
     "output_type": "stream",
     "text": [
      "['iphone', 'samsung']\n",
      "['iphone', 'samsung', 'Nokia']\n",
      "['iphone', 'samsung']\n"
     ]
    }
   ],
   "source": [
    "myList = [\"iphone\", \"samsung\"]\n",
    "print(myList)\n",
    "myList.append(\"Nokia\")\n",
    "print(myList)\n"
   ]
  },
  {
   "cell_type": "code",
   "execution_count": 17,
   "id": "cbe3f5bb",
   "metadata": {},
   "outputs": [
    {
     "name": "stdout",
     "output_type": "stream",
     "text": [
      "Input number to your list: 1\n",
      "Input number to your list: 2\n",
      "Input number to your list: 3\n",
      "Input number to your list: \n",
      "6\n"
     ]
    }
   ],
   "source": [
    "myList = []\n",
    "sum = 0\n",
    "while True:\n",
    "    n = input(\"Input number to your list: \")\n",
    "    if n == \"\":\n",
    "        break\n",
    "    else:\n",
    "        myList.append(int(n))    \n",
    "for i in range(0,len(myList)):\n",
    "    sum += myList[i]\n",
    "print(sum)"
   ]
  },
  {
   "cell_type": "code",
   "execution_count": null,
   "id": "94ba2bfe",
   "metadata": {},
   "outputs": [],
   "source": []
  }
 ],
 "metadata": {
  "kernelspec": {
   "display_name": "Python 3",
   "language": "python",
   "name": "python3"
  },
  "language_info": {
   "codemirror_mode": {
    "name": "ipython",
    "version": 3
   },
   "file_extension": ".py",
   "mimetype": "text/x-python",
   "name": "python",
   "nbconvert_exporter": "python",
   "pygments_lexer": "ipython3",
   "version": "3.8.8"
  }
 },
 "nbformat": 4,
 "nbformat_minor": 5
}
