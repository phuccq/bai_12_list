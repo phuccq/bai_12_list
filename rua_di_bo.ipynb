{
 "cells": [
  {
   "cell_type": "code",
   "execution_count": 1,
   "id": "dd971b0d",
   "metadata": {},
   "outputs": [
    {
     "name": "stdout",
     "output_type": "stream",
     "text": [
      "input your color of the turtle you think that is the winner (red, brown, blue, green, orange, pink) red\n"
     ]
    }
   ],
   "source": [
    "import turtle as t\n",
    "import random\n",
    "\n",
    "# Tạo và quy định dài rộng của đường đua\n",
    "# và các tham số\n",
    "\n",
    "# Hiển thị cửa sổ cho phép người dùng đoán con rùa màu nào thắng cuộc\n",
    "guess = input(\"input your color of the turtle you think that is the winner (red, brown, blue, green, orange, pink) \")\n",
    "# List lưu lại màu của các con rùa\n",
    "colors = [\"red\", \"brown\", \"blue\", \"green\", \"orange\", \"pink\"]\n",
    "# Vị trí ban đầu theo trục y của các con rùa theo trục x = -250, cách vị trí 0,0 250 về bên trái\n",
    "y_position = [0, -30, 30, -60, 60, 90]\n",
    "# List lưu lại vận tốc của các con rùa các giá trị này sẽ được chọn một cách ngẫu nhiên cho các con rùa khi chạy\n",
    "turtle_speed = [5,10, 15, 20, 25, 30]\n",
    "# Tạo một list để lưu các con rùa\n",
    "all_turtles = []\n",
    "run = True\n",
    "\n",
    "# Xây dựng hàm để tạo và thiết đặt vị trí ban đầu, màu cho các con rùa và lưu vào list\n",
    "for turtle in range(0, 6):\n",
    "    turtles = t.Turtle(shape=\"turtle\")\n",
    "    turtles.penup()\n",
    "    # Di chuyển rùa về vị trí ban đầu bên trái cùng của đường đua\n",
    "    turtles.goto(x=-250, y=y_position[turtle])\n",
    "    # Màu của rùa\n",
    "    turtles.color(colors[turtle])\n",
    "    # Lưu vào list\n",
    "    all_turtles.append(turtles)\n",
    "    # Xây dựng hàm di chuyển về đích của mỗi con rùa, khoảng cách di chuyển được chọn ngẫu nhiên trong các giá trị\n",
    "    # được lưu trong list phía trên\n",
    "    \n",
    "def random_walk(turtles):\n",
    "    global run\n",
    "    for turtle in turtles:\n",
    "        turtle.forward(random.choice(turtle_speed))\n",
    "        # Kiểm tra điều kiện cán đích Khi 1 con cán đích thì dừng lại\n",
    "        if turtle.xcor() > 250:\n",
    "            run = False\n",
    "            t.hideturtle()\n",
    "            t.penup()\n",
    "            t.goto(0,200)\n",
    "            t.pendown()\n",
    "            t.write(f\"The winner is the {turtle.pencolor()} turtle\")\n",
    "            if guess == turtle.pencolor():\n",
    "                t.penup()\n",
    "                t.goto(0,190)\n",
    "                t.pendown()\n",
    "                t.write(\"You win!\")\n",
    "            else:\n",
    "                t.penup()\n",
    "                t.goto(0,190)\n",
    "                t.pendown()\n",
    "                t.write(\"You lose!\")\n",
    "while run:\n",
    "    random_walk(all_turtles)\n",
    "\n",
    "t.done()"
   ]
  }
 ],
 "metadata": {
  "kernelspec": {
   "display_name": "Python 3",
   "language": "python",
   "name": "python3"
  },
  "language_info": {
   "codemirror_mode": {
    "name": "ipython",
    "version": 3
   },
   "file_extension": ".py",
   "mimetype": "text/x-python",
   "name": "python",
   "nbconvert_exporter": "python",
   "pygments_lexer": "ipython3",
   "version": "3.8.8"
  }
 },
 "nbformat": 4,
 "nbformat_minor": 5
}
