{
 "cells": [
  {
   "cell_type": "code",
   "execution_count": 3,
   "id": "1cd1091a",
   "metadata": {},
   "outputs": [
    {
     "name": "stdout",
     "output_type": "stream",
     "text": [
      "Two max numbes in list is 10 and 9\n"
     ]
    }
   ],
   "source": [
    "num_list = [1,5,3,7,9,6,10]\n",
    "num_list.sort()\n",
    "print(f\"Two max numbes in list is {num_list[-1]} and {num_list[-2]}\")"
   ]
  },
  {
   "cell_type": "code",
   "execution_count": null,
   "id": "91fecb8a",
   "metadata": {},
   "outputs": [],
   "source": []
  }
 ],
 "metadata": {
  "kernelspec": {
   "display_name": "Python 3",
   "language": "python",
   "name": "python3"
  },
  "language_info": {
   "codemirror_mode": {
    "name": "ipython",
    "version": 3
   },
   "file_extension": ".py",
   "mimetype": "text/x-python",
   "name": "python",
   "nbconvert_exporter": "python",
   "pygments_lexer": "ipython3",
   "version": "3.8.8"
  }
 },
 "nbformat": 4,
 "nbformat_minor": 5
}
